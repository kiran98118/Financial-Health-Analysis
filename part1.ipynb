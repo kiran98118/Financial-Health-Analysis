{
 "cells": [
  {
   "cell_type": "code",
   "execution_count": 2,
   "id": "c38ac289",
   "metadata": {
    "tags": []
   },
   "outputs": [],
   "source": [
    "import numpy as np\n",
    "import pandas as pd\n",
    "import matplotlib.pyplot as plt\n",
    "import seaborn as sns\n"
   ]
  },
  {
   "cell_type": "code",
   "execution_count": 3,
   "id": "74662be6",
   "metadata": {
    "tags": []
   },
   "outputs": [],
   "source": [
    "df = pd.read_csv(\"/Users/saikiran/Downloads/financial_health_analysis_dataset.csv\")"
   ]
  },
  {
   "cell_type": "code",
   "execution_count": 4,
   "id": "9d419b72",
   "metadata": {
    "tags": []
   },
   "outputs": [
    {
     "name": "stdout",
     "output_type": "stream",
     "text": [
      "         Date  Revenue  Expenses  Profit  Cash Flow   Debt  Assets  \\\n",
      "0  2000-01-01    91910     56996   34914      36583  37428   50606   \n",
      "1  2000-01-02    76044     17614   58430      57621  15068  143451   \n",
      "2  2000-01-03    87214     49647   37567      42285  20229   67733   \n",
      "3  2000-01-04    53827     72940  -19113     -16957  33478   90394   \n",
      "4  2000-01-05    75820     15620   60200      63913  21908  110797   \n",
      "\n",
      "   Liabilities  Marketing Spend  Employee Count  Tax Paid  Operational Cost  \n",
      "0        50085            14159             278      7633          42235.94  \n",
      "1        53894            12173             346     11913          12960.62  \n",
      "2        30019            15107             379     11490          39471.72  \n",
      "3        53827            17132             444      3905          56926.27  \n",
      "4        28184            14723             220     13197          12298.48  \n"
     ]
    }
   ],
   "source": [
    "print(df.head())"
   ]
  },
  {
   "cell_type": "code",
   "execution_count": 7,
   "id": "4f00ef36",
   "metadata": {
    "tags": []
   },
   "outputs": [
    {
     "name": "stdout",
     "output_type": "stream",
     "text": [
      "Date                0\n",
      "Revenue             0\n",
      "Expenses            0\n",
      "Profit              0\n",
      "Cash Flow           0\n",
      "Debt                0\n",
      "Assets              0\n",
      "Liabilities         0\n",
      "Marketing Spend     0\n",
      "Employee Count      0\n",
      "Tax Paid            0\n",
      "Operational Cost    0\n",
      "dtype: int64\n"
     ]
    }
   ],
   "source": [
    "print(df.isnull().sum())"
   ]
  },
  {
   "cell_type": "code",
   "execution_count": 11,
   "id": "8ec941dd",
   "metadata": {
    "tags": []
   },
   "outputs": [
    {
     "data": {
      "image/png": "[encoded data removed]",
      "text/plain": [
       "<Figure size 800x600 with 1 Axes>"
      ]
     },
     "metadata": {},
     "output_type": "display_data"
    },
    {
     "name": "stdout",
     "output_type": "stream",
     "text": [
      "Outliers in Profit: Empty DataFrame\n",
      "Columns: [Date, Revenue, Expenses, Profit, Cash Flow, Debt, Assets, Liabilities, Marketing Spend, Employee Count, Tax Paid, Operational Cost, z_score_profit]\n",
      "Index: []\n"
     ]
    }
   ],
   "source": [
    "# Box plot for Profit to identify outliers\n",
    "plt.figure(figsize = (8,6))\n",
    "sns.boxplot(x = df['Profit'])\n",
    "plt.title= (\"Box Plot of Profit\")\n",
    "plt.show()\n",
    "\n",
    "# You can also use Z-score or IQR to detect outliers\n",
    "from scipy.stats import zscore\n",
    "\n",
    "df['z_score_profit'] = zscore(df['Profit'])\n",
    "outliers =df[(df['z_score_profit'] > 3) | (df['z_score_profit'] < -3)]\n",
    "\n",
    "print(\"Outliers in Profit:\", outliers)"
   ]
  },
  {
   "cell_type": "code",
   "execution_count": 13,
   "id": "3e3ce796",
   "metadata": {
    "tags": []
   },
   "outputs": [
    {
     "name": "stdout",
     "output_type": "stream",
     "text": [
      "Inconsistent Rows: Empty DataFrame\n",
      "Columns: [Date, Revenue, Expenses, Profit, Cash Flow, Debt, Assets, Liabilities, Marketing Spend, Employee Count, Tax Paid, Operational Cost, z_score_profit, calculated_profit, Calculated_Profit]\n",
      "Index: []\n"
     ]
    }
   ],
   "source": [
    "# Check if Profit = Revenue - Expenses\n",
    "df['Calculated_Profit'] = df['Revenue'] - df['Expenses']\n",
    "inconsistent_rows = df[df['Profit'] != df['Calculated_Profit']]\n",
    "print(\"Inconsistent Rows:\", inconsistent_rows)"
   ]
  },
  {
   "cell_type": "code",
   "execution_count": 19,
   "id": "8b2f3330",
   "metadata": {},
   "outputs": [
    {
     "name": "stdout",
     "output_type": "stream",
     "text": [
      "            Revenue      Expenses       Profit     Cash Flow          Debt  \\\n",
      "count  20000.000000  20000.000000  20000.00000  20000.000000  20000.000000   \n",
      "mean   59508.545100  47249.836400  12258.70870  12248.088650  30082.962300   \n",
      "std    23209.165749  18862.986125  29843.89368  29982.651637  11532.833832   \n",
      "min    20002.000000  15002.000000 -59398.00000 -62580.000000  10001.000000   \n",
      "25%    39384.000000  30729.750000  -9143.00000  -9307.000000  20124.750000   \n",
      "50%    59138.500000  46881.000000  12519.00000  12370.500000  30209.000000   \n",
      "75%    79509.250000  63630.750000  33641.00000  33594.000000  40115.000000   \n",
      "max    99996.000000  79994.000000  84313.00000  86768.000000  49999.000000   \n",
      "\n",
      "              Assets   Liabilities  Marketing Spend  Employee Count  \\\n",
      "count   20000.000000  20000.000000     20000.000000    20000.000000   \n",
      "mean    99968.189150  44978.947150     12483.372500      274.786350   \n",
      "std     28822.209403  14505.592213      4340.376592      130.003427   \n",
      "min     50002.000000  20001.000000      5000.000000       50.000000   \n",
      "25%     74730.750000  32367.000000      8710.750000      161.000000   \n",
      "50%    100105.500000  44953.000000     12464.000000      274.000000   \n",
      "75%    124779.250000  57628.500000     16282.000000      387.000000   \n",
      "max    149994.000000  69994.000000     19998.000000      499.000000   \n",
      "\n",
      "           Tax Paid  Operational Cost  Z_score_Profit  Calculated_Profit  \n",
      "count  20000.000000      20000.000000    2.000000e+04        20000.00000  \n",
      "mean    8482.522800      33071.758312   -1.101341e-17        12258.70870  \n",
      "std     3751.305433      13524.040510    1.000025e+00        29843.89368  \n",
      "min     2000.000000       9030.720000   -2.401111e+00       -59398.00000  \n",
      "25%     5249.750000      21415.405000   -7.171398e-01        -9143.00000  \n",
      "50%     8457.500000      32708.600000    8.721979e-03        12519.00000  \n",
      "75%    11742.250000      44259.615000    7.164891e-01        33641.00000  \n",
      "max    14999.000000      63970.580000    2.414433e+00        84313.00000  \n",
      "Mode of Revenue: 43386\n",
      "Skewness of Profit: 0.0005832199058068897\n"
     ]
    }
   ],
   "source": [
    "# Descriptive statistics\n",
    "print(df.describe())\n",
    "\n",
    "# Additional statistics (mode, skewness, etc.)\n",
    "print(\"Mode of Revenue:\", df['Revenue'].mode()[0])\n",
    "print(\"Skewness of Profit:\", df['Profit'].skew())"
   ]
  },
  {
   "cell_type": "code",
   "execution_count": null,
   "id": "8df137ab",
   "metadata": {},
   "outputs": [],
   "source": [
    "# Line chart for Revenue and Expenses over time\n",
    "plt.figure(figsize=(12, 6))\n",
    "plt.plot(df['Date'], df['Revenue'], label='Revenue')\n",
    "plt.plot(df['Date'], df['Expenses'], label='Expenses')\n",
    "plt.title('Revenue and Expenses Over Time')\n",
    "plt.xlabel('Date')\n",
    "plt.ylabel('Amount')\n",
    "plt.legend()\n",
    "plt.show()\n",
    "\n",
    "# Box plot for Profit and Cash Flow\n",
    "plt.figure(figsize=(12, 6))\n",
    "plt.subplot(1, 2, 1)\n",
    "sns.boxplot(x=df['Profit'])\n",
    "plt.title('Box Plot of Profit')\n",
    "\n",
    "plt.subplot(1, 2, 2)\n",
    "sns.boxplot(x=df['Cash Flow'])\n",
    "plt.title('Box Plot of Cash Flow')\n",
    "plt.show()\n",
    "\n",
    "# Pie chart for Expenses Categories (if available)\n",
    "# Assuming 'Marketing Spend' and 'Operational Cost' are expense categories\n",
    "expenses = df[['Marketing Spend', 'Operational Cost']].sum()\n",
    "plt.figure(figsize=(6, 6))\n",
    "plt.pie(expenses, labels=expenses.index, autopct='%1.1f%%')\n",
    "plt.title('Proportion of Expenses Categories')\n",
    "plt.show()\n"
   ]
  },
  {
   "cell_type": "code",
   "execution_count": 25,
   "id": "f90432cd",
   "metadata": {},
   "outputs": [
    {
     "name": "stdout",
     "output_type": "stream",
     "text": [
      "           Revenue  Expenses    Profit      Debt\n",
      "Revenue   1.000000  0.004362  0.774928 -0.000872\n",
      "Expenses  0.004362  1.000000 -0.628663 -0.003432\n",
      "Profit    0.774928 -0.628663  1.000000  0.001491\n",
      "Debt     -0.000872 -0.003432  0.001491  1.000000\n"
     ]
    },
    {
     "data": {
      "image/png": "[encoded data removed]",
      "text/plain": [
       "<Figure size 800x600 with 2 Axes>"
      ]
     },
     "metadata": {},
     "output_type": "display_data"
    }
   ],
   "source": [
    "# Correlation matrix\n",
    "correlation_matrix = df[['Revenue', 'Expenses', 'Profit', 'Debt']].corr()\n",
    "print(correlation_matrix)\n",
    "\n",
    "# Heatmap for correlation matrix\n",
    "plt.figure(figsize=(8, 6))\n",
    "sns.heatmap(correlation_matrix, annot=True, cmap='coolwarm')\n",
    "plt.title('Correlation Matrix')\n",
    "plt.show()"
   ]
  },
  {
   "cell_type": "code",
   "execution_count": null,
   "id": "a2fcf55c",
   "metadata": {},
   "outputs": [],
   "source": [
    "Summary of Key findings:\n",
    "    \n",
    "    * The dataset does not have any missing values\n",
    "    * Based on the Z-score method, no outliers are detected.\n",
    "    * The manually calculated profit(Revenue-Expenses) matches the profit column\n",
    "    * The median revenue is $59,138.50\n",
    "    * The median expenses is $46,881\n",
    "    * So, the mean profit is $12,258.71\n",
    "    * The median cash flow is $12,370.50, close to median profit, suggesting a strong correlation between cash flow and profit\n",
    "    * On average, Assets ($99,968) are much higher than Liabilities ($44,978), indicating a stable financial position.\n",
    "    * Profit has a near zero skewness (0.00058), meaning the distribution is symmetrical, with an equal number of gains and losses.\n",
    "    * Revenue and Expenses fluctuate over time, suggesting seasonal or operational variability.\n",
    "    * Profit and Cash Flow have a wide range, but no extreme outliers were found.\n",
    "    * Cash Flow distribution follows a similar trend as Profit, reinforcing financial stability."
   ]
  }
 ],
 "metadata": {
  "kernelspec": {
   "display_name": "Python 3 (ipykernel)",
   "language": "python",
   "name": "python3"
  },
  "language_info": {
   "codemirror_mode": {
    "name": "ipython",
    "version": 3
   },
   "file_extension": ".py",
   "mimetype": "text/x-python",
   "name": "python",
   "nbconvert_exporter": "python",
   "pygments_lexer": "ipython3",
   "version": "3.11.5"
  }
 },
 "nbformat": 4,
 "nbformat_minor": 5
}
